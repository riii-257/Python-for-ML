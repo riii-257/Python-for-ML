{
  "nbformat": 4,
  "nbformat_minor": 0,
  "metadata": {
    "colab": {
      "provenance": []
    },
    "kernelspec": {
      "name": "python3",
      "display_name": "Python 3"
    },
    "language_info": {
      "name": "python"
    }
  },
  "cells": [
    {
      "cell_type": "markdown",
      "source": [
        "# Basics of `Python` Programming\n",
        "\n",
        "In this notebook, we will explain basic `Python` for machine learning"
      ],
      "metadata": {
        "id": "riRJ86ILhLjg"
      }
    },
    {
      "cell_type": "markdown",
      "source": [
        "## Derived data types in `Python`"
      ],
      "metadata": {
        "id": "ffOpV4lKjOOh"
      }
    },
    {
      "cell_type": "markdown",
      "source": [
        "> **Note:** In Python, `int`, `float`, `str`, etc. are atomic data types and no declaration is required."
      ],
      "metadata": {
        "id": "xm9XgGIxjatM"
      }
    },
    {
      "cell_type": "code",
      "source": [
        "x=1\n",
        "print(type(x))"
      ],
      "metadata": {
        "colab": {
          "base_uri": "https://localhost:8080/"
        },
        "id": "jypAPjDQjnoX",
        "outputId": "73f71c7f-b56c-4355-beb8-c8f5806e8b92"
      },
      "execution_count": null,
      "outputs": [
        {
          "output_type": "stream",
          "name": "stdout",
          "text": [
            "<class 'int'>\n"
          ]
        }
      ]
    },
    {
      "cell_type": "markdown",
      "source": [
        "## List"
      ],
      "metadata": {
        "id": "NHs5o95mtrel"
      }
    },
    {
      "cell_type": "code",
      "source": [
        "m=[0,'a',7.5,['p','i','u']]\n",
        "m"
      ],
      "metadata": {
        "colab": {
          "base_uri": "https://localhost:8080/"
        },
        "id": "SE9-Ei9SkpYg",
        "outputId": "e213b45e-99ea-472f-d99b-5b15f04ec648"
      },
      "execution_count": null,
      "outputs": [
        {
          "output_type": "execute_result",
          "data": {
            "text/plain": [
              "[0, 'a', 7.5, ['p', 'i', 'u']]"
            ]
          },
          "metadata": {},
          "execution_count": 12
        }
      ]
    },
    {
      "cell_type": "code",
      "source": [
        "m[3][1]"
      ],
      "metadata": {
        "colab": {
          "base_uri": "https://localhost:8080/",
          "height": 35
        },
        "id": "veVg5t1QlfOI",
        "outputId": "4edf1750-0704-43a5-b533-7b549bb84cbf"
      },
      "execution_count": null,
      "outputs": [
        {
          "output_type": "execute_result",
          "data": {
            "text/plain": [
              "'i'"
            ],
            "application/vnd.google.colaboratory.intrinsic+json": {
              "type": "string"
            }
          },
          "metadata": {},
          "execution_count": 13
        }
      ]
    },
    {
      "cell_type": "code",
      "source": [
        "m[0]=4\n",
        "m.append(8)\n",
        "m"
      ],
      "metadata": {
        "colab": {
          "base_uri": "https://localhost:8080/"
        },
        "id": "MFFrp4EOlymX",
        "outputId": "774f5909-960a-41fb-e0f3-635a949765c2"
      },
      "execution_count": null,
      "outputs": [
        {
          "output_type": "execute_result",
          "data": {
            "text/plain": [
              "[4, 'a', 7.5, ['p', 'i', 'u'], 8]"
            ]
          },
          "metadata": {},
          "execution_count": 24
        }
      ]
    },
    {
      "cell_type": "markdown",
      "source": [
        "## Tuple"
      ],
      "metadata": {
        "id": "FSumot1otuk9"
      }
    },
    {
      "cell_type": "code",
      "source": [
        "t=(7,8,9)\n",
        "type(t)"
      ],
      "metadata": {
        "colab": {
          "base_uri": "https://localhost:8080/"
        },
        "id": "vtAkmsYknO1u",
        "outputId": "966ad427-1698-47b1-f30e-916e5e0e2db8"
      },
      "execution_count": null,
      "outputs": [
        {
          "output_type": "execute_result",
          "data": {
            "text/plain": [
              "tuple"
            ]
          },
          "metadata": {},
          "execution_count": 26
        }
      ]
    },
    {
      "cell_type": "markdown",
      "source": [
        "## Dictionary"
      ],
      "metadata": {
        "id": "v-8R2xzPtx_8"
      }
    },
    {
      "cell_type": "code",
      "source": [
        "d={1:'p', 2:'i', 3:'u'}\n",
        "d"
      ],
      "metadata": {
        "colab": {
          "base_uri": "https://localhost:8080/"
        },
        "id": "gGNy5IGRn9UW",
        "outputId": "b631bec0-062f-4617-aad7-60c6cc8f53fa"
      },
      "execution_count": null,
      "outputs": [
        {
          "output_type": "execute_result",
          "data": {
            "text/plain": [
              "{1: 'p', 2: 'i', 3: 'u'}"
            ]
          },
          "metadata": {},
          "execution_count": 27
        }
      ]
    },
    {
      "cell_type": "code",
      "source": [
        "type(d)"
      ],
      "metadata": {
        "colab": {
          "base_uri": "https://localhost:8080/"
        },
        "id": "lpkFkkJcoHpe",
        "outputId": "3a4d1b51-a00a-4649-858f-3a906edc1385"
      },
      "execution_count": null,
      "outputs": [
        {
          "output_type": "execute_result",
          "data": {
            "text/plain": [
              "dict"
            ]
          },
          "metadata": {},
          "execution_count": 28
        }
      ]
    },
    {
      "cell_type": "markdown",
      "source": [
        "## Set"
      ],
      "metadata": {
        "id": "WrY9IRJBt0t8"
      }
    },
    {
      "cell_type": "code",
      "source": [
        "s={7,7,8,9,7,8,9}\n",
        "s"
      ],
      "metadata": {
        "colab": {
          "base_uri": "https://localhost:8080/"
        },
        "id": "F2VYCBq6oKG2",
        "outputId": "6f736ee2-bef3-4759-f69b-fad4ec39b3f1"
      },
      "execution_count": null,
      "outputs": [
        {
          "output_type": "execute_result",
          "data": {
            "text/plain": [
              "{7, 8, 9}"
            ]
          },
          "metadata": {},
          "execution_count": 33
        }
      ]
    },
    {
      "cell_type": "code",
      "source": [
        "type(s)"
      ],
      "metadata": {
        "colab": {
          "base_uri": "https://localhost:8080/"
        },
        "id": "fallki2LoM4T",
        "outputId": "115aa4f3-c4a6-430f-f661-6b5b6160a8fc"
      },
      "execution_count": null,
      "outputs": [
        {
          "output_type": "execute_result",
          "data": {
            "text/plain": [
              "set"
            ]
          },
          "metadata": {},
          "execution_count": 31
        }
      ]
    },
    {
      "cell_type": "code",
      "source": [
        "def fn(o):\n",
        "  print(\"Help, \", o)\n",
        "fn(\"Riya\")"
      ],
      "metadata": {
        "colab": {
          "base_uri": "https://localhost:8080/"
        },
        "id": "gS-YLiRkoPym",
        "outputId": "de3ac898-07f1-46fc-a2a0-d5788d9ca013"
      },
      "execution_count": null,
      "outputs": [
        {
          "output_type": "stream",
          "name": "stdout",
          "text": [
            "Help,  Riya\n"
          ]
        }
      ]
    },
    {
      "cell_type": "code",
      "source": [
        "times2=lambda var:var*2"
      ],
      "metadata": {
        "id": "3aCE7l6Qqz8O"
      },
      "execution_count": null,
      "outputs": []
    },
    {
      "cell_type": "code",
      "source": [
        "print(times2(2))"
      ],
      "metadata": {
        "colab": {
          "base_uri": "https://localhost:8080/"
        },
        "id": "Krf0z3LUq7G2",
        "outputId": "9f1edb1e-7aea-44e3-e7c2-6bf93c28e567"
      },
      "execution_count": null,
      "outputs": [
        {
          "output_type": "stream",
          "name": "stdout",
          "text": [
            "4\n"
          ]
        }
      ]
    },
    {
      "cell_type": "code",
      "source": [
        "x=[1,2,3]\n",
        "[item**2 for item in x]"
      ],
      "metadata": {
        "colab": {
          "base_uri": "https://localhost:8080/"
        },
        "id": "A7GQy0GMq-i8",
        "outputId": "e2932e69-4862-41d4-e437-c0d326e78e1e"
      },
      "execution_count": null,
      "outputs": [
        {
          "output_type": "execute_result",
          "data": {
            "text/plain": [
              "[1, 4, 9]"
            ]
          },
          "metadata": {},
          "execution_count": 37
        }
      ]
    }
  ]
}